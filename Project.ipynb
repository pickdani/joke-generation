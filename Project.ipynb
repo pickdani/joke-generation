{
 "cells": [
  {
   "cell_type": "markdown",
   "id": "identified-wells",
   "metadata": {},
   "source": [
    "## CS4120 Project\n",
    "## Evaluating Smoothing of Various Ngram Language Models for Joke Generation\n",
    "\n",
    "#### Team: Daniel Pickett"
   ]
  },
  {
   "cell_type": "markdown",
   "id": "basic-psychiatry",
   "metadata": {},
   "source": [
    "#### Summary\n",
    "This project will attempt to approach the problem of humour in NLP and construct various language models trained on a dataset of jokes and then performing sentence generation and evaluating the results. To determine which jokes are funny or not is subjective and makes evaluating these generated sentences difficult. In the past many papers use hand labeled examples for 'funny' and 'unfunny' jokes. Given a dataset for over 200,000 jokes, this wouldn't be possible. This project will approach this task by using the reddit scores to make this classification.\n",
    "\n",
    "Each joke in the dataset recieves a score from users on the site. Each user can contribute +1 or -1 to the score. In this project first a classifier is constructed using tfidf vectors to distinguish between good and bad or 'funny' and 'unfunny' jokes, by binning jokes that have recieved over 20 score and under 20 score. This classifier has around 63% accuracy testing on around 15,000 jokes.\n",
    "\n",
    "Then ngram models are constructed using three types of smoothing: Laplace, "
   ]
  },
  {
   "cell_type": "markdown",
   "id": "endangered-cambridge",
   "metadata": {},
   "source": [
    "### Instructions\n",
    "\n",
    "The following packages (in the import statements) of NLTK language models, NLTK stopwords dataset, and sklearn are required. Any missing packages can be installed using pip. As long as the packages are installed the notebook is able to be run sequentially. There are a few cells such as training a Logistic Regression model, and generating thousands of sentences, which can sometimes take upwards of 30 minutes to run. However, the sentences generated are also downloaded to text files and included in the submission."
   ]
  },
  {
   "cell_type": "code",
   "execution_count": 52,
   "id": "systematic-phenomenon",
   "metadata": {},
   "outputs": [],
   "source": [
    "import json\n",
    "import contractions\n",
    "import pandas as pd\n",
    "import numpy as np\n",
    "import nltk\n",
    "import pickle\n",
    "import random\n",
    "\n",
    "import matplotlib.pyplot as plt\n",
    "\n",
    "from nltk.corpus import stopwords\n",
    "from nltk.util import bigrams\n",
    "from nltk.tokenize.treebank import TreebankWordDetokenizer\n",
    "from nltk.tokenize.treebank import TreebankWordTokenizer\n",
    "from nltk.lm.preprocessing import pad_both_ends\n",
    "from nltk.lm.preprocessing import flatten\n",
    "from nltk.lm.preprocessing import padded_everygram_pipeline\n",
    "from nltk.lm import StupidBackoff\n",
    "from nltk.lm import Laplace\n",
    "from nltk.lm import AbsoluteDiscountingInterpolated\n",
    "\n",
    "from sklearn.feature_extraction.text import CountVectorizer\n",
    "from sklearn.model_selection import train_test_split\n",
    "from sklearn.feature_extraction.text import TfidfVectorizer\n",
    "from sklearn.ensemble import RandomForestClassifier\n",
    "from sklearn.linear_model import LogisticRegression\n",
    "from sklearn.metrics import confusion_matrix, ConfusionMatrixDisplay"
   ]
  },
  {
   "cell_type": "markdown",
   "id": "forty-domestic",
   "metadata": {},
   "source": [
    "### 1. Dataset"
   ]
  },
  {
   "cell_type": "markdown",
   "id": "broad-april",
   "metadata": {},
   "source": [
    "The dataset being used is from the provided list of datasets given to the class. It can be found at the following link https://github.com/taivop/joke-dataset as the file reddit_jokes.json. This github repository contains a variety of joke datasets within it, but I will be focusing only on the Reddit jokes as they each have an associated score, which will be used to infer which jokes are recieved well and which are recieved poorly, and to construct a classifier. Each of the entries in the json is a single post to reddit.com/r/jokes where each post is a single english joke. The text of the each posts consists of a title and a body which will be concatenated to form the joke."
   ]
  },
  {
   "cell_type": "markdown",
   "id": "personalized-joint",
   "metadata": {},
   "source": [
    "#### Read in and tokenize jokes and corresponding score"
   ]
  },
  {
   "cell_type": "code",
   "execution_count": 2,
   "id": "junior-henry",
   "metadata": {},
   "outputs": [
    {
     "name": "stdout",
     "output_type": "stream",
     "text": [
      "194553\n"
     ]
    },
    {
     "data": {
      "text/plain": [
       "{'body': 'A gummy bear',\n",
       " 'id': '5tdpho',\n",
       " 'score': 11,\n",
       " 'title': 'What do you call a bear with no teeth'}"
      ]
     },
     "execution_count": 2,
     "metadata": {},
     "output_type": "execute_result"
    }
   ],
   "source": [
    "f = open('reddit_jokes.json', 'r')\n",
    "data = json.load(f)\n",
    "f.close()\n",
    "ex_count = len(data)\n",
    "print(ex_count)\n",
    "data[1005]"
   ]
  },
  {
   "cell_type": "markdown",
   "id": "duplicate-toronto",
   "metadata": {},
   "source": [
    "The text of each joke is processed by converting to lowercase, then tokenized using TreebankWordTokenizer. TreebankWordTokenizer was chosen as it has a correspanding detokenizer to completely reverse the operation and turn a set of tokens back into a sentence. This tokenizer (https://www.nltk.org/_modules/nltk/tokenize/treebank.html) splits standard contractions and also seperates off punctuation and quotations."
   ]
  },
  {
   "cell_type": "code",
   "execution_count": 3,
   "id": "fatty-falls",
   "metadata": {},
   "outputs": [
    {
     "name": "stdout",
     "output_type": "stream",
     "text": [
      "Pre-processing Text\n",
      "10000 / 194553\n",
      "20000 / 194553\n",
      "30000 / 194553\n",
      "40000 / 194553\n",
      "50000 / 194553\n",
      "60000 / 194553\n",
      "70000 / 194553\n",
      "80000 / 194553\n",
      "90000 / 194553\n",
      "100000 / 194553\n",
      "110000 / 194553\n",
      "120000 / 194553\n",
      "130000 / 194553\n",
      "140000 / 194553\n",
      "150000 / 194553\n",
      "160000 / 194553\n",
      "170000 / 194553\n",
      "180000 / 194553\n",
      "190000 / 194553\n",
      "194553 / 194553\n"
     ]
    }
   ],
   "source": [
    "# to build the classifier, construct a list of examples and labels\n",
    "X = []\n",
    "y = []\n",
    "tokenizer = TreebankWordTokenizer()\n",
    "# https://www.nltk.org/_modules/nltk/tokenize/treebank.html\n",
    "\n",
    "print('Pre-processing Text')\n",
    "\n",
    "for i, post in enumerate(data):\n",
    "    text = post['title'] + ' ' + post['body']\n",
    "    # pre-processing: lowercase, expand contractions, NLTK tokenize, add start and end tokens\n",
    "    text = text.lower()\n",
    "    text = TreebankWordTokenizer().tokenize(text)\n",
    "    text = ['<s>'] + text + ['</s>']\n",
    "    \n",
    "    # display progress\n",
    "    if i != 0 and (i+1) % 10_000 == 0 or (i+1) == ex_count:\n",
    "        print(i+1, '/', ex_count)\n",
    "    \n",
    "    score = post['score']\n",
    "    X.append(text)\n",
    "    y.append(score)"
   ]
  },
  {
   "cell_type": "markdown",
   "id": "rapid-vegetarian",
   "metadata": {},
   "source": [
    "### 2. Construct a Classifier to Evaluate Jokes"
   ]
  },
  {
   "cell_type": "markdown",
   "id": "incredible-preliminary",
   "metadata": {},
   "source": [
    "The following cells will bin the target variable (the jokes score) into two classes representing a good (1) and bad (0) joke.\n",
    "\n",
    "The boundary selected for the cutoff of these bins is that a total score of over 20 constitutes a funny joke. The score is a sum of the upvotes and downvotes so to achieve a score of more than 20 requires a significant number of different people voting that they liked this joke and it has recieved an overall postive response. Since 50% of the dataset contains jokes with 3 or less score, undersampling will be used to balance the data so that the classifier doesn't simply predict the majority class, but instead learns patterns of words found in the popular jokes.\n",
    "\n",
    "\n",
    "There are 44373 examples at or over 20 upvotes and 150180 under 20 upvotes."
   ]
  },
  {
   "cell_type": "code",
   "execution_count": 4,
   "id": "amino-chase",
   "metadata": {},
   "outputs": [
    {
     "name": "stdout",
     "output_type": "stream",
     "text": [
      "1: 43431\n",
      "0: 151122\n"
     ]
    }
   ],
   "source": [
    "jokes_df = pd.DataFrame(list(zip(X, y)), columns=['text', 'score'])\n",
    "jokes_df['score'] = pd.cut(\n",
    "    jokes_df['score'],bins=[-1, 20, 50_000], labels=[0, 1])\n",
    "\n",
    "print('1:', len(jokes_df[jokes_df['score'] == 1]))\n",
    "print('0:', len(jokes_df[jokes_df['score'] == 0]))"
   ]
  },
  {
   "cell_type": "code",
   "execution_count": 5,
   "id": "passing-notebook",
   "metadata": {},
   "outputs": [],
   "source": [
    "shuffled_df = jokes_df.sample(frac=1, random_state=0)\n",
    "good_jokes_df = shuffled_df[shuffled_df['score'] == 1]\n",
    "\n",
    "# undersample, take only 43,431/151,122 from negative class\n",
    "bad_jokes_df = shuffled_df[shuffled_df['score'] == 0].sample(n=43_431)\n",
    "\n",
    "balanced_df = pd.concat([good_jokes_df, bad_jokes_df])\n",
    "balanced_df = balanced_df.reset_index(drop=True)"
   ]
  },
  {
   "cell_type": "code",
   "execution_count": 6,
   "id": "emotional-poverty",
   "metadata": {},
   "outputs": [
    {
     "data": {
      "image/png": "[encoded data removed]",
      "text/plain": [
       "<Figure size 432x288 with 1 Axes>"
      ]
     },
     "metadata": {
      "needs_background": "light"
     },
     "output_type": "display_data"
    }
   ],
   "source": [
    "# plot the class distribution\n",
    "labels, counts = np.unique(balanced_df['score'], return_counts=True)\n",
    "plt.bar(labels, counts, align='center')\n",
    "plt.gca().set_xticks(labels)\n",
    "plt.title('Class Distribution')\n",
    "plt.xlabel('Score Bin')\n",
    "plt.ylabel('Count')\n",
    "plt.show()"
   ]
  },
  {
   "cell_type": "code",
   "execution_count": 7,
   "id": "tough-second",
   "metadata": {},
   "outputs": [],
   "source": [
    "# Save new balanced data\n",
    "X = list(balanced_df['text'])\n",
    "y = list(balanced_df['score'])"
   ]
  },
  {
   "cell_type": "markdown",
   "id": "placed-indian",
   "metadata": {},
   "source": [
    "#### Data Exploration"
   ]
  },
  {
   "cell_type": "code",
   "execution_count": 8,
   "id": "dramatic-watson",
   "metadata": {},
   "outputs": [
    {
     "data": {
      "text/plain": [
       "(1,\n",
       " ['<s>',\n",
       "  'what',\n",
       "  'did',\n",
       "  'the',\n",
       "  'amputee',\n",
       "  'say',\n",
       "  'to',\n",
       "  'his',\n",
       "  'mom',\n",
       "  'when',\n",
       "  'he',\n",
       "  'learned',\n",
       "  'to',\n",
       "  'ride',\n",
       "  'a',\n",
       "  'bike',\n",
       "  '?',\n",
       "  'look',\n",
       "  'ma',\n",
       "  ',',\n",
       "  'no',\n",
       "  'hands',\n",
       "  '!',\n",
       "  '</s>'])"
      ]
     },
     "execution_count": 8,
     "metadata": {},
     "output_type": "execute_result"
    }
   ],
   "source": [
    "# random tokenized example of 'good' >20 upvotes joke\n",
    "# to show tokenization\n",
    "y[12], X[12]"
   ]
  },
  {
   "cell_type": "code",
   "execution_count": 10,
   "id": "exposed-wholesale",
   "metadata": {},
   "outputs": [
    {
     "name": "stdout",
     "output_type": "stream",
     "text": [
      "Jokes --------------------\n",
      "Number of examples:\t 194553\n",
      "Average word count:\t 66.18\n",
      "Longest example:\t 8810\n",
      "\tscore: 1 ['<s>', 'lost', 'in', 'the', 'desert.', 'so', ',', 'there', \"'s\", 'a'] ...\n",
      "\n",
      "Shortest example:\t 3\n",
      "\tscore: 1 ['<s>', 'congress', '</s>']\n",
      "\n",
      "Scores --------------------\n",
      "Max score: 1\n",
      "Min score: 0\n",
      "Average score: 0.5\n"
     ]
    }
   ],
   "source": [
    "# show some metrics on the data\n",
    "joke_word_counts = [len(ex) for ex in X]\n",
    "\n",
    "avg_words = np.mean(joke_word_counts)\n",
    "longest_joke = X[np.argmax(joke_word_counts)], y[np.argmax(joke_word_counts)]\n",
    "shortest_joke = X[np.argmin(joke_word_counts)], y[np.argmin(joke_word_counts)]\n",
    "\n",
    "print('Jokes', '-' * 20)\n",
    "print('Number of examples:\\t', ex_count)\n",
    "print('Average word count:\\t', np.round(avg_words, 2))\n",
    "print('Longest example:\\t', np.max([len(ex) for ex in X]))\n",
    "print('\\tscore:', longest_joke[1], longest_joke[0][:10], '...\\n')\n",
    "\n",
    "print('Shortest example:\\t', np.min([len(ex) for ex in X]))\n",
    "print('\\tscore:', shortest_joke[1], shortest_joke[0])\n",
    "\n",
    "print('\\nScores', '-' * 20)\n",
    "print('Max score:', np.max(y))\n",
    "print('Min score:', np.min(y))\n",
    "print('Average score:', np.round(np.mean(y), 2))"
   ]
  },
  {
   "cell_type": "markdown",
   "id": "forced-scope",
   "metadata": {},
   "source": [
    "#### Split Data for Classifier and Language Models"
   ]
  },
  {
   "cell_type": "markdown",
   "id": "nutritional-subscription",
   "metadata": {},
   "source": [
    "Split examples into multiple sets: 60% for evaluation classifier, 40% for the language models.\n",
    "\n",
    "The language models should not train on the same training data that the model they are being evaluated by was trained from."
   ]
  },
  {
   "cell_type": "code",
   "execution_count": 11,
   "id": "diverse-vocabulary",
   "metadata": {},
   "outputs": [],
   "source": [
    "X_classifier, X_lm, y_classifier, y_lm = train_test_split(\n",
    "    X, y, test_size=0.4, random_state=0)"
   ]
  },
  {
   "cell_type": "code",
   "execution_count": 12,
   "id": "behind-ground",
   "metadata": {},
   "outputs": [],
   "source": [
    "# first detokenize examples, tokenizing then detokenizing will remove many uneccsary characters\n",
    "# such as new lines and spaces\n",
    "X_detoken = [TreebankWordDetokenizer().detokenize(x) for x in X_classifier]"
   ]
  },
  {
   "cell_type": "markdown",
   "id": "fuzzy-desert",
   "metadata": {},
   "source": [
    "#### Vectorize Training Data"
   ]
  },
  {
   "cell_type": "code",
   "execution_count": 13,
   "id": "naughty-inside",
   "metadata": {},
   "outputs": [
    {
     "name": "stderr",
     "output_type": "stream",
     "text": [
      "[nltk_data] Downloading package stopwords to\n",
      "[nltk_data]     /Users/daniel/nltk_data...\n",
      "[nltk_data]   Package stopwords is already up-to-date!\n"
     ]
    },
    {
     "data": {
      "text/plain": [
       "True"
      ]
     },
     "execution_count": 13,
     "metadata": {},
     "output_type": "execute_result"
    }
   ],
   "source": [
    "nltk.download('stopwords')"
   ]
  },
  {
   "cell_type": "markdown",
   "id": "verified-brisbane",
   "metadata": {},
   "source": [
    "To break each joke into a vector to be trained by the classifier, tfidf (term frequency–inverse document frequency) is used to vectorize the jokes and find specific tokens that are most important to the funny jokes and weight them highly, while assigning low weights to words that don't often appear in these good jokes. The tfidf vectorizer will consider both unigrams and bigrams, and will filter out any stop words from the NLTK stopwords dataset.\n",
    "\n",
    "The training data for the classifier is split again into 70% training and 30% testing, to ensure that the model is able to generalize and will be effective in the end at classifying the unseen generated sentences from the language models."
   ]
  },
  {
   "cell_type": "code",
   "execution_count": 14,
   "id": "recent-fitness",
   "metadata": {},
   "outputs": [],
   "source": [
    "tfidf = TfidfVectorizer(\n",
    "    sublinear_tf=True, min_df=5, norm='l2', \n",
    "    encoding='latin-1', ngram_range=(1, 2), stop_words='english')\n",
    "\n",
    "X_tf = tfidf.fit_transform(X_detoken).toarray()\n",
    "\n",
    "# of classifier(70% train, 30% test)\n",
    "X_train, X_test, y_train, y_test = train_test_split(\n",
    "    X_tf, y_classifier, test_size=0.3, random_state=0)"
   ]
  },
  {
   "cell_type": "code",
   "execution_count": 199,
   "id": "dietary-affect",
   "metadata": {},
   "outputs": [
    {
     "name": "stdout",
     "output_type": "stream",
     "text": [
      "['russian responds', 'anniversary wife', 'walks slowly', 'got taste', 'possibility', 'heard voice', 'cardboard boxes', 'outside sees', 'silly said', 'walrus']\n"
     ]
    },
    {
     "data": {
      "text/plain": [
       "(52117, 47206)"
      ]
     },
     "execution_count": 199,
     "metadata": {},
     "output_type": "execute_result"
    }
   ],
   "source": [
    "# display some features of the tfidf\n",
    "features_names = tfidf.get_feature_names()\n",
    "print(random.sample(features_names ,10))\n",
    "X_tf.shape"
   ]
  },
  {
   "cell_type": "code",
   "execution_count": 201,
   "id": "double-bunch",
   "metadata": {},
   "outputs": [],
   "source": [
    "# combine features and their corresponding scores and sort them to find best and worst features\n",
    "# takes ~3 minutes\n",
    "scores = zip(tfidf.get_feature_names(), np.asarray(X_tf.sum(axis=0)).ravel())\n",
    "sorted_scores = sorted(scores, key=lambda x: x[1], reverse=True)"
   ]
  },
  {
   "cell_type": "code",
   "execution_count": 311,
   "id": "african-lawrence",
   "metadata": {},
   "outputs": [
    {
     "data": {
      "image/png": "[encoded data removed]",
      "text/plain": [
       "<Figure size 720x432 with 1 Axes>"
      ]
     },
     "metadata": {
      "needs_background": "light"
     },
     "output_type": "display_data"
    }
   ],
   "source": [
    "# top 20 best features for popular jokes\n",
    "plt.figure(figsize=(10, 6))\n",
    "plt.xticks(rotation = 45)\n",
    "plt.title('Top 20 Important Features')\n",
    "plt.ylabel('Weight')\n",
    "plt.xlabel('Feature')\n",
    "for i in range(20):\n",
    "    plt.bar(sorted_scores[i][0], sorted_scores[i][1], color='steelblue', edgecolor='black')\n",
    "plt.show()"
   ]
  },
  {
   "cell_type": "code",
   "execution_count": 312,
   "id": "ignored-saying",
   "metadata": {},
   "outputs": [
    {
     "data": {
      "image/png": "[encoded data removed]",
      "text/plain": [
       "<Figure size 720x432 with 1 Axes>"
      ]
     },
     "metadata": {
      "needs_background": "light"
     },
     "output_type": "display_data"
    }
   ],
   "source": [
    "# worst 20 feautres for popular jokes\n",
    "plt.figure(figsize=(10, 6))\n",
    "plt.title('Top 20 Least Important Features')\n",
    "plt.ylabel('Weight')\n",
    "plt.xlabel('Feature')\n",
    "plt.xticks(rotation = 60)\n",
    "for i in range(len(sorted_scores)-1, len(sorted_scores)-21, -1):\n",
    "    plt.bar(sorted_scores[i][0], sorted_scores[i][1], color='orange',edgecolor='black')\n",
    "plt.show()"
   ]
  },
  {
   "cell_type": "code",
   "execution_count": 313,
   "id": "tribal-michigan",
   "metadata": {},
   "outputs": [
    {
     "data": {
      "image/png": "[encoded data removed]",
      "text/plain": [
       "<Figure size 720x432 with 1 Axes>"
      ]
     },
     "metadata": {
      "needs_background": "light"
     },
     "output_type": "display_data"
    }
   ],
   "source": [
    "lbls, scrs = zip(*sorted_scores)\n",
    "plt.figure(figsize=(10, 6))\n",
    "plt.title('All Feature Weights')\n",
    "plt.ylabel('Weight')\n",
    "plt.xlabel('Feature Number')\n",
    "plt.plot(scrs)\n",
    "plt.show()"
   ]
  },
  {
   "cell_type": "code",
   "execution_count": 321,
   "id": "dramatic-employment",
   "metadata": {},
   "outputs": [
    {
     "data": {
      "image/png": "[encoded data removed]",
      "text/plain": [
       "<Figure size 720x432 with 1 Axes>"
      ]
     },
     "metadata": {
      "needs_background": "light"
     },
     "output_type": "display_data"
    }
   ],
   "source": [
    "# feature importance over time\n",
    "lbls, scrs = zip(*sorted_scores)\n",
    "plt.figure(figsize=(10, 6))\n",
    "plt.title('Feature Weights Excluding Top 5,000 Features')\n",
    "plt.ylabel('Weight')\n",
    "plt.xlabel('Feature Number')\n",
    "plt.plot(scrs[5_000:])\n",
    "plt.show()"
   ]
  },
  {
   "cell_type": "markdown",
   "id": "human-criticism",
   "metadata": {},
   "source": [
    "#### Train Evaluation Model"
   ]
  },
  {
   "cell_type": "code",
   "execution_count": 15,
   "id": "higher-signature",
   "metadata": {},
   "outputs": [
    {
     "data": {
      "text/plain": [
       "LogisticRegression(random_state=0)"
      ]
     },
     "execution_count": 15,
     "metadata": {},
     "output_type": "execute_result"
    }
   ],
   "source": [
    "# instead of running this cell the model can be loaded from the provided file in cell below\n",
    "# takes ~5-10 minutes to train\n",
    "lr = LogisticRegression(random_state=0)\n",
    "lr.fit(X_train, y_train)"
   ]
  },
  {
   "cell_type": "code",
   "execution_count": 323,
   "id": "speaking-maria",
   "metadata": {},
   "outputs": [],
   "source": [
    "#pickle.dump(lr, open('LogisticRegressionModel.sav', 'wb')) # used to save the model, commented as already saved\n",
    "lr = pickle.load(open('LogisticRegressionModel.sav', 'rb')) # can be used to load the model, avoiding training"
   ]
  },
  {
   "cell_type": "code",
   "execution_count": 324,
   "id": "smoking-repair",
   "metadata": {},
   "outputs": [],
   "source": [
    "# predict test and training examples to calculate performance metrics\n",
    "# of this classifier on testing and training examples\n",
    "y_test_predict = lr.predict(X_test)\n",
    "y_train_predict = lr.predict(X_train)"
   ]
  },
  {
   "cell_type": "code",
   "execution_count": 325,
   "id": "acoustic-botswana",
   "metadata": {},
   "outputs": [],
   "source": [
    "def print_scores(true, predicted):\n",
    "    '''Prints the accruacy, precision, recall, and f1 score. given true labels and predicted labels.'''\n",
    "    acc = accuracy_score(true, predicted)\n",
    "    prec = precision_score(true, predicted, average='macro')\n",
    "    rec = recall_score(true, predicted, average='macro')\n",
    "    f1 = f1_score(true, predicted,average='macro')\n",
    "    print('Accuracy', acc)\n",
    "    print('Precision', prec)\n",
    "    print('Recall', rec)\n",
    "    print('F1 Score', f1)"
   ]
  },
  {
   "cell_type": "code",
   "execution_count": 326,
   "id": "prospective-german",
   "metadata": {},
   "outputs": [
    {
     "data": {
      "image/png": "[encoded data removed]",
      "text/plain": [
       "<Figure size 720x720 with 2 Axes>"
      ]
     },
     "metadata": {
      "needs_background": "light"
     },
     "output_type": "display_data"
    },
    {
     "name": "stdout",
     "output_type": "stream",
     "text": [
      "Training Scores\n",
      "Accuracy 0.7777747320523012\n",
      "Precision 0.7778275625509133\n",
      "Recall 0.7778112538882804\n",
      "F1 Score 0.7777739138557425\n",
      "----\n",
      "Testing Scores\n",
      "Accuracy 0.6307239703248912\n",
      "Precision 0.6306390272898685\n",
      "Recall 0.630647955268314\n",
      "F1 Score 0.63064265519018\n"
     ]
    }
   ],
   "source": [
    "fig, ax = plt.subplots(figsize=(10, 10))\n",
    "cm_plot = ConfusionMatrixDisplay.from_predictions(y_test, y_test_predict, ax=ax)\n",
    "plt.title('Evaluation Confusion Matrix')\n",
    "plt.show()\n",
    "\n",
    "print('Training Scores')\n",
    "print_scores(y_train, y_train_predict)\n",
    "print('----')\n",
    "print('Testing Scores')\n",
    "print_scores(y_test, y_test_predict)"
   ]
  },
  {
   "cell_type": "markdown",
   "id": "floating-insulin",
   "metadata": {},
   "source": [
    "The classifier has scores of around 63% on the unseen testing examples for predicting if a joke will recieve over 20 upvotes. This is a significant accuracy and should be able to take in the jokes generated by the models and score them. Now that the evaluation classifier is constructed the language models will be built and used to generate sentences for evaluation."
   ]
  },
  {
   "cell_type": "markdown",
   "id": "faced-representation",
   "metadata": {},
   "source": [
    "### 3. Construct Baseline Laplace N-gram Model"
   ]
  },
  {
   "cell_type": "code",
   "execution_count": 19,
   "id": "interesting-consequence",
   "metadata": {},
   "outputs": [],
   "source": [
    "# train on examples with positive label\n",
    "X_lm_train = []\n",
    "for i, text in enumerate(X_lm):\n",
    "    if y_lm[i] == 1:\n",
    "        X_lm_train.append(text)"
   ]
  },
  {
   "cell_type": "code",
   "execution_count": 20,
   "id": "furnished-nicholas",
   "metadata": {},
   "outputs": [],
   "source": [
    "# X_lm, and y_lm will be used to train all language models\n",
    "\n",
    "# train baseline, tri and bigram lm\n",
    "train_tri, vocab_tri = padded_everygram_pipeline(3, X_lm_train)\n",
    "laplace_tri_lm = Laplace(3)\n",
    "laplace_tri_lm.fit(train_tri, vocab_tri)\n",
    "\n",
    "train_quad, vocab_quad = padded_everygram_pipeline(4, X_lm_train)\n",
    "laplace_quad_lm = Laplace(2)\n",
    "laplace_quad_lm.fit(train_quad, vocab_quad)"
   ]
  },
  {
   "cell_type": "code",
   "execution_count": 380,
   "id": "handmade-plane",
   "metadata": {},
   "outputs": [],
   "source": [
    "def ngram_generate_sentence(model, max_words, seed):\n",
    "    '''Generate words using an nltk model until end of sentence token,\n",
    "    is reached. Return the detokenized sentence.'''\n",
    "    sentence = []\n",
    "    \n",
    "    # only include sentence up until max_words or </s> token\n",
    "    for word in model.generate(max_words, text_seed=seed):\n",
    "        if word == '<s>':\n",
    "            continue\n",
    "        elif word == '</s>':\n",
    "            break\n",
    "        sentence.append(word)\n",
    "    \n",
    "    return TreebankWordDetokenizer().detokenize(sentence)"
   ]
  },
  {
   "cell_type": "code",
   "execution_count": 22,
   "id": "duplicate-execution",
   "metadata": {},
   "outputs": [],
   "source": [
    "def displaySentence(text):\n",
    "    '''Prints out a sentence of text with the first letter of each\n",
    "    sentence capitalized, only for display, the models use lowercase'''\n",
    "    \n",
    "    chars = 'abcdefghijklmnopqrstuvwxyz'\n",
    "    sentence = ''\n",
    "    \n",
    "    capitlizeNext = False\n",
    "    for i, c in enumerate(text):\n",
    "        if i == 0:\n",
    "            sentence += c.upper()\n",
    "        elif c in ['!', '.', '?', '\"']:\n",
    "            sentence += c\n",
    "            capitlizeNext = True\n",
    "        elif capitlizeNext and c in chars:\n",
    "            sentence += c.upper()\n",
    "            capitlizeNext = False\n",
    "        else:\n",
    "            sentence += c\n",
    "    print(sentence)"
   ]
  },
  {
   "cell_type": "code",
   "execution_count": 381,
   "id": "impaired-politics",
   "metadata": {},
   "outputs": [
    {
     "name": "stdout",
     "output_type": "stream",
     "text": [
      "I tried to do back in 2003. In\n"
     ]
    }
   ],
   "source": [
    "# using small max_word such as 10 often cuts the sentence short\n",
    "displaySentence(ngram_generate_sentence(laplace_tri_lm, 10, ['<s>']))"
   ]
  },
  {
   "cell_type": "code",
   "execution_count": 24,
   "id": "liberal-pledge",
   "metadata": {},
   "outputs": [
    {
     "name": "stdout",
     "output_type": "stream",
     "text": [
      "New suit. Man, \"Why did jim's ass? Customers like this goes.\n"
     ]
    }
   ],
   "source": [
    "displaySentence(ngram_generate_sentence(laplace_quad_lm, 30, ['<s>']))"
   ]
  },
  {
   "cell_type": "code",
   "execution_count": 327,
   "id": "organizational-teddy",
   "metadata": {},
   "outputs": [
    {
     "name": "stdout",
     "output_type": "stream",
     "text": [
      "So, he goes to his companions.\" I kept my cool and didn't give a shit, not one helped him land a probe on a winning streak continued all night wondering whether his advice helped. The employee comes one of them experienced veterans. After a few broken ribs, a latvian, a lithuanian, \"Oh, shit is that?\" Bush looks at his wrinkles and thinning hair. \"Why are all just sounds too risky to me. She said i can do with a sigh. The rooster stretched out,\n"
     ]
    }
   ],
   "source": [
    "# providing larger max_sentence doesn't guarantee a longer\n",
    "# sequence, but allows for the possibility of it\n",
    "displaySentence(ngram_generate_sentence(laplace_tri_lm, 100, ['<s>']))"
   ]
  },
  {
   "cell_type": "markdown",
   "id": "cordless-advisory",
   "metadata": {},
   "source": [
    "### 4. Construct backoff and interpolation models"
   ]
  },
  {
   "cell_type": "code",
   "execution_count": 26,
   "id": "desperate-serve",
   "metadata": {},
   "outputs": [],
   "source": [
    "# construct and train stupidbackoff and interpolated model\n",
    "train_tri, vocab_tri = padded_everygram_pipeline(3, X_lm_train)\n",
    "backoff_tri_lm = StupidBackoff(0.4, 3)\n",
    "backoff_tri_lm.fit(train_tri, vocab_tri)\n",
    "\n",
    "train_quad, vocab_quad = padded_everygram_pipeline(4, X_lm_train)\n",
    "backoff_quad_lm = StupidBackoff(0.4, 4)\n",
    "backoff_quad_lm.fit(train_quad, vocab_quad)\n",
    "\n",
    "train_tri, vocab_tri = padded_everygram_pipeline(3, X_lm_train)\n",
    "interpolate_tri_lm = AbsoluteDiscountingInterpolated(3)\n",
    "interpolate_tri_lm.fit(train_tri, vocab_tri)\n",
    "\n",
    "train_quad, vocab_quad = padded_everygram_pipeline(4, X_lm_train)\n",
    "interpolate_quad_lm = AbsoluteDiscountingInterpolated(4)\n",
    "interpolate_quad_lm.fit(train_quad, vocab_quad)"
   ]
  },
  {
   "cell_type": "code",
   "execution_count": 27,
   "id": "valid-government",
   "metadata": {},
   "outputs": [
    {
     "name": "stdout",
     "output_type": "stream",
     "text": [
      "Someone had in his will, ” ‘bangity, bangity, bang.’ Don’t worry buddy. We’ll find your wife,\n"
     ]
    }
   ],
   "source": [
    "displaySentence(ngram_generate_sentence(backoff_tri_lm, 20, ['<s>']))"
   ]
  },
  {
   "cell_type": "code",
   "execution_count": 28,
   "id": "brazilian-ghost",
   "metadata": {},
   "outputs": [
    {
     "name": "stdout",
     "output_type": "stream",
     "text": [
      "I told my dad that i was a kid, can i see the problem!\n"
     ]
    }
   ],
   "source": [
    "displaySentence(ngram_generate_sentence(backoff_quad_lm, 20, ['<s>']))"
   ]
  },
  {
   "cell_type": "code",
   "execution_count": 29,
   "id": "bizarre-kingdom",
   "metadata": {},
   "outputs": [
    {
     "name": "stdout",
     "output_type": "stream",
     "text": [
      "Sherlock and watson go on, the man: in br-r...(Nsfw) a\n"
     ]
    }
   ],
   "source": [
    "displaySentence(ngram_generate_sentence(interpolate_tri_lm, 20, ['<s>']))"
   ]
  },
  {
   "cell_type": "code",
   "execution_count": 30,
   "id": "waiting-theory",
   "metadata": {},
   "outputs": [
    {
     "name": "stdout",
     "output_type": "stream",
     "text": [
      "Kids this day. Policeman v/s the girl. A policeman on his horse and whispers something, then slaps it on\n"
     ]
    }
   ],
   "source": [
    "displaySentence(ngram_generate_sentence(interpolate_quad_lm, 20, ['<s>']))"
   ]
  },
  {
   "cell_type": "code",
   "execution_count": 31,
   "id": "other-dining",
   "metadata": {},
   "outputs": [
    {
     "name": "stdout",
     "output_type": "stream",
     "text": [
      "Oldie - the monkey and the iguana one day iguana is walking through the cemetery and heard some strange noise coming from the area where mozart was buried. Terrified, the drunk ran and got the priest to come and speak about wwii i'm front of his ball - directly between his ball and the green. After several minutes of arguing with her, let her sit with them while they had coffee and lunch breaks, and gave her little jobs to do here,\" Said the man.\" Any flavour?\"\n"
     ]
    }
   ],
   "source": [
    "displaySentence(ngram_generate_sentence(interpolate_quad_lm, 100, ['<s>']))"
   ]
  },
  {
   "cell_type": "markdown",
   "id": "adjusted-elizabeth",
   "metadata": {},
   "source": [
    "### 5. Generate 1000 Sentences with each Model"
   ]
  },
  {
   "cell_type": "code",
   "execution_count": 32,
   "id": "secret-cornwall",
   "metadata": {},
   "outputs": [],
   "source": [
    "# dict to mape each model to sentences being generated\n",
    "models = {\n",
    "    laplace_tri_lm: [],\n",
    "    laplace_quad_lm: [],\n",
    "    \n",
    "    backoff_tri_lm: [],\n",
    "    backoff_quad_lm: [],\n",
    "    \n",
    "    interpolate_tri_lm: [],\n",
    "    interpolate_quad_lm: []\n",
    "}"
   ]
  },
  {
   "cell_type": "code",
   "execution_count": 33,
   "id": "finished-caution",
   "metadata": {},
   "outputs": [],
   "source": [
    "def generateSentences(model, count):\n",
    "    '''Generate (count) sentences using provided model and returns them in a list. Shows progress.'''\n",
    "    sentences = []\n",
    "    print('Generating', count, 'sentences from', model.__class__)\n",
    "    for i in range(count):\n",
    "        sentences.append(ngram_generate_sentence(model, 20, ['<s>']))\n",
    "        # display progress\n",
    "        if (i+1) % 100 == 0 or i+1 == count:\n",
    "            print(i+1, '/', count)\n",
    "    print()\n",
    "    return sentences"
   ]
  },
  {
   "cell_type": "code",
   "execution_count": 34,
   "id": "disturbed-vienna",
   "metadata": {},
   "outputs": [
    {
     "name": "stdout",
     "output_type": "stream",
     "text": [
      "Generating 500 sentences from <class 'nltk.lm.models.Laplace'>\n",
      "100 / 500\n",
      "200 / 500\n",
      "300 / 500\n",
      "400 / 500\n",
      "500 / 500\n",
      "\n",
      "Generating 500 sentences from <class 'nltk.lm.models.Laplace'>\n",
      "100 / 500\n",
      "200 / 500\n",
      "300 / 500\n",
      "400 / 500\n",
      "500 / 500\n",
      "\n",
      "Generating 500 sentences from <class 'nltk.lm.models.StupidBackoff'>\n",
      "100 / 500\n",
      "200 / 500\n",
      "300 / 500\n",
      "400 / 500\n",
      "500 / 500\n",
      "\n",
      "Generating 500 sentences from <class 'nltk.lm.models.StupidBackoff'>\n",
      "100 / 500\n",
      "200 / 500\n",
      "300 / 500\n",
      "400 / 500\n",
      "500 / 500\n",
      "\n",
      "Generating 500 sentences from <class 'nltk.lm.models.AbsoluteDiscountingInterpolated'>\n",
      "100 / 500\n",
      "200 / 500\n",
      "300 / 500\n",
      "400 / 500\n",
      "500 / 500\n",
      "\n",
      "Generating 500 sentences from <class 'nltk.lm.models.AbsoluteDiscountingInterpolated'>\n",
      "100 / 500\n",
      "200 / 500\n",
      "300 / 500\n",
      "400 / 500\n",
      "500 / 500\n",
      "\n"
     ]
    }
   ],
   "source": [
    "# generate 500 sentences with each model, this takes the longest to run ~30 minutes\n",
    "# the sentences are also saved to text files\n",
    "for model, sentences in models.items():\n",
    "    models[model] = generateSentences(model, 500)"
   ]
  },
  {
   "cell_type": "code",
   "execution_count": 35,
   "id": "contemporary-console",
   "metadata": {},
   "outputs": [],
   "source": [
    "# save sentences to text files\n",
    "def sentencesToFile(sentences, filename):\n",
    "    '''Writes a list of sentences to a file. Each sentence on it's own line.'''\n",
    "    with open(filename, 'w') as f:\n",
    "        for sent in sentences:\n",
    "            f.write(\"%s\\n\" % sent)"
   ]
  },
  {
   "cell_type": "code",
   "execution_count": 36,
   "id": "further-scoop",
   "metadata": {},
   "outputs": [],
   "source": [
    "sentencesToFile(models[laplace_tri_lm], 'LaplaceTrigram_Sentences.txt')\n",
    "sentencesToFile(models[laplace_quad_lm], 'LaplaceQuadgram_Sentences.txt')\n",
    "\n",
    "sentencesToFile(models[backoff_tri_lm], 'BackoffTrigram_Sentences.txt')\n",
    "sentencesToFile(models[backoff_quad_lm], 'BackoffQuadgram_Sentences.txt')\n",
    "\n",
    "sentencesToFile(models[interpolate_tri_lm], 'InterpolateTrigram_Sentences.txt')\n",
    "sentencesToFile(models[interpolate_quad_lm], 'InterpolateQuadgram_Sentences.txt')"
   ]
  },
  {
   "cell_type": "markdown",
   "id": "collectible-breath",
   "metadata": {},
   "source": [
    "### 6. Evaluate Generated Sentences"
   ]
  },
  {
   "cell_type": "code",
   "execution_count": 86,
   "id": "pregnant-reflection",
   "metadata": {},
   "outputs": [
    {
     "name": "stdout",
     "output_type": "stream",
     "text": [
      "Total Score of Jokes Generated with each Model with each Model\n",
      "Laplace Trigram: [255.05862152 244.94137848] / 500\n",
      "Laplace Quadgram: [253.31008521 246.68991479] / 500 \n",
      "\n",
      "StupidBackoff Trigram: [249.26326431 250.73673569] /500\n",
      "StupidBackoff Quadgram: [260.18389097 239.81610903] /500 \n",
      "\n",
      "Interpolated Trigram: [246.09084653 253.90915347] /500\n",
      "Interpolated Quadgram: [246.35968639 253.64031361] /500\n"
     ]
    }
   ],
   "source": [
    "def score_sentences(sentences):\n",
    "    ''' Given a list of sentences, pass them through the classifier and return the\n",
    "    total number of positive classifications..'''\n",
    "    return lr.predict_proba(tfidf.transform(sentences))\n",
    "               \n",
    "score_tri_laplace = score_sentences(models[laplace_tri_lm])\n",
    "score_quad_laplace = score_sentences(models[laplace_quad_lm])\n",
    "\n",
    "score_tri_backoff = score_sentences(models[backoff_tri_lm])\n",
    "score_quad_backoff = score_sentences(models[backoff_quad_lm])\n",
    "\n",
    "score_tri_interp = score_sentences(models[interpolate_tri_lm])\n",
    "score_quad_interp = score_sentences(models[interpolate_quad_lm])\n",
    "\n",
    "print('Total Score of Jokes Generated with each Model with each Model')\n",
    "print('Laplace Trigram:', sum(score_tri_laplace), '/ 500')\n",
    "print('Laplace Quadgram:', sum(score_quad_laplace), '/ 500', '\\n')\n",
    "\n",
    "print('StupidBackoff Trigram:', sum(score_tri_backoff), '/500')\n",
    "print('StupidBackoff Quadgram:', sum(score_quad_backoff), '/500', '\\n')\n",
    "\n",
    "print('Interpolated Trigram:', sum(score_tri_interp), '/500')\n",
    "print('Interpolated Quadgram:', sum(score_quad_interp), '/500')"
   ]
  },
  {
   "cell_type": "code",
   "execution_count": 87,
   "id": "verified-standing",
   "metadata": {},
   "outputs": [
    {
     "name": "stdout",
     "output_type": "stream",
     "text": [
      "Total Positive Classifications Generated with each Model\n",
      "Laplace Trigram: 224 / 500\n",
      "Laplace Quadgram: 234 / 500 \n",
      "\n",
      "StupidBackoff Trigram: 261 /500\n",
      "StupidBackoff Quadgram: 213 /500 \n",
      "\n",
      "Interpolated Trigram: 254 /500\n",
      "Interpolated Quadgram: 246 /500\n"
     ]
    }
   ],
   "source": [
    "def classify_sentences(sentences):\n",
    "    ''' Given a list of sentences, pass them through the classifier and return the\n",
    "    total number of positive classifications..'''\n",
    "    return lr.predict(tfidf.transform(sentences))\n",
    "               \n",
    "pos_tri_laplace = classify_sentences(models[laplace_tri_lm])\n",
    "pos_quad_laplace = classify_sentences(models[laplace_quad_lm])\n",
    "\n",
    "pos_tri_backoff = classify_sentences(models[backoff_tri_lm])\n",
    "pos_quad_backoff = classify_sentences(models[backoff_quad_lm])\n",
    "\n",
    "pos_tri_interp = classify_sentences(models[interpolate_tri_lm])\n",
    "pos_quad_interp = classify_sentences(models[interpolate_quad_lm])\n",
    "\n",
    "print('Total Positive Classifications Generated with each Model')\n",
    "print('Laplace Trigram:', sum(pos_tri_laplace), '/ 500')\n",
    "print('Laplace Quadgram:', sum(pos_quad_laplace), '/ 500', '\\n')\n",
    "\n",
    "print('StupidBackoff Trigram:', sum(pos_tri_backoff), '/500')\n",
    "print('StupidBackoff Quadgram:', sum(pos_quad_backoff), '/500', '\\n')\n",
    "\n",
    "print('Interpolated Trigram:', sum(pos_tri_interp), '/500')\n",
    "print('Interpolated Quadgram:', sum(pos_quad_interp), '/500')"
   ]
  },
  {
   "cell_type": "code",
   "execution_count": 328,
   "id": "metallic-tuning",
   "metadata": {},
   "outputs": [
    {
     "data": {
      "image/png": "[encoded data removed]",
      "text/plain": [
       "<Figure size 720x432 with 1 Axes>"
      ]
     },
     "metadata": {
      "needs_background": "light"
     },
     "output_type": "display_data"
    }
   ],
   "source": [
    "# graph each of the scores\n",
    "plt.figure(figsize=(10, 6))\n",
    "ax = plt.subplot(111)\n",
    "ax.set_ylim(200, 280)\n",
    "plt.title('Count of Positive Classifications from 500 Generated Jokes')\n",
    "plt.xlabel('Model')\n",
    "plt.ylabel('Number of Positive \\\"Funny\\\" Jokes')\n",
    "\n",
    "labels = ['Laplace', 'StupidBackoff', 'Interpolated']\n",
    "trigram_pos = [224, 261, 254]\n",
    "quadgram_pos = [234, 213, 246]\n",
    "\n",
    "ax.bar(labels, trigram_pos, width=0.3, color='b', align='center')\n",
    "ax.bar(labels, bigram_pos, width=0.3, color='orange', align='edge')\n",
    "ax.legend(['Trigram', 'Quadgram'])\n",
    "plt.show()"
   ]
  },
  {
   "cell_type": "markdown",
   "id": "remarkable-discipline",
   "metadata": {},
   "source": [
    "Based on these raw counts, it can be seen that stupidbackoff smoothing with trigrams performed the best for this task. It produced 261/500 examples that were classified as funny or popular by the evaluation classifier. In second is the trigram absolute discounted interpolated model 254/500. And in third is the quadgram absolute discounted interpolated model 246/500. From these results it appears that increasing the order of ngrams did not provide a noteable increase in the scores, and in many cases actually resulted in a lower score. It can however be seen that smoothign does have a noteable effect on the generated sentences. The stupidbackoff and interpolated trigrams generated significantly more postively classified sentences than the laplace model."
   ]
  },
  {
   "cell_type": "markdown",
   "id": "choice-dining",
   "metadata": {},
   "source": [
    "A few examples of jokes generated by the top performing model."
   ]
  },
  {
   "cell_type": "code",
   "execution_count": 122,
   "id": "integrated-volleyball",
   "metadata": {},
   "outputs": [
    {
     "name": "stdout",
     "output_type": "stream",
     "text": [
      "0.58 3 guys die and go to heaven. St. Peter says, “good lord! He’s done it again!\"\n",
      "\n",
      "0.55 A man goes to the eye doctor the doctor holds up a picture of a man.\n",
      "\n",
      "0.72 After a long examination, the physicist yells: \"Don't do it at home because he\n",
      "\n",
      "0.66 A woman in the front seat.\" \" O.K.\" Says the inventor, \"You need to brush your\n",
      "\n",
      "0.59 Only 50,000 bc kids will get this started with this gem this guy goes to talk to his professor\n",
      "\n",
      "0.58 When i get naked in front of him, i will grant unto each of you take one\n",
      "\n",
      "0.67 A blonde, brunette, and a paramedic are trying to find that his son started as a\n",
      "\n",
      "0.72 What do you mean accidentally?!\" Smith yells angrily. In a joking manner, the sergeant replies,\n",
      "\n",
      "0.64 Schrödinger's cat walks into a hotel...... And god says 'stay'. The man says, \"You can\n",
      "\n",
      "0.58 My wife asked me to help her but she insisted. So the cashier put her finger into the box\n",
      "\n",
      "0.58 Calling in sick today i called shotgun...And the cop sees him and pulls\n",
      "\n",
      "0.57 A redditor walks into a bar and sees a black mutt just sitting there.\" You talk?\n",
      "\n",
      "0.66 Whats the difference between light and hard you can sleep with a second place racehorse? They both have kurds\n",
      "\n",
      "0.57 Guy walks into the house and collapses on the bar, and says to the cop and says, \"\n",
      "\n",
      "0.67 An old lady goes to get a priest out of her purse and pulled out a bottle of vintage wine.\n",
      "\n",
      "0.57 Three priests are traveling home from a great ladies night out, two married women have the\n",
      "\n",
      "0.56 I called my boss and get that sorted for you straight away.' 'Thanks lucy that's great son.\n",
      "\n",
      "0.58 I bumped in to the priest \"What's the difference between a gorrila pit and\n",
      "\n",
      "0.6 One night i dreamt i was skiing!\"\n",
      "\n",
      "0.69 English/scottish/irish construction site an older nun, who was putting make up on but accidentally ruined it.\n",
      "\n",
      "0.55 Engineer goes to hell he arrives in heaven, earl.\" \" Oh my god - both of us\n",
      "\n",
      "0.57 The taxi driver passenger: i hate my job\" The interviewer is slightly taken aback at her reply\n",
      "\n",
      "0.72 A young rooster as soon as she arrived, the mechanic took one look at him in astonishment.\n",
      "\n",
      "0.66 A young boy says, \"Haha! I was actually the bus driver.\" 2. A\n",
      "\n",
      "0.57 Why don't neckbeards hit on people with heart conditions take beta-blockers.\n",
      "\n",
      "0.59 Why doesn't it? How many feminists does it take to open a clinic...He hung\n",
      "\n",
      "0.64 I got a hand job from a blind girl last night i was out\n",
      "\n",
      "0.62 A woman is as old as the roman empire cut in half? With\n",
      "\n",
      "0.62 What is the difference between an oral and rectal thermometer? The taste\n",
      "\n",
      "0.72 A cop pulls over a car for speeding...He said he \"Couldn't find 3 wise men or\n",
      "\n",
      "0.57 A rich man & a poor man share the same wedding anniversary...They meet each other\n",
      "\n",
      "0.62 An elementary teacher wanted to introduce physiological notions to her students. She asks her mom \"What's taking them\n",
      "\n",
      "0.66 North korea is calling for war. In other news, it's time\n",
      "\n",
      "0.57 Reputation there was a papa mole, and a trucker walks up to the jamaican gent\n",
      "\n",
      "0.74 Why shouldn't you be with your wife?\"\n",
      "\n",
      "0.63 A real gut-buster a woman noticed her husband standing on the roof because it's not often people compliment\n",
      "\n",
      "0.7 A little girl asked what the problem is probably the engine, tim concluded that it was time to\n",
      "\n",
      "0.58 What did 0 say to 8? Nice belt.\n",
      "\n",
      "0.55 Why did obama get two terms as president? Because every time i go to the pub and said,\n",
      "\n",
      "0.68 A fine-looking gentleman sat down in the barnyard, giving the rooster a farmer wanted to know why.\n",
      "\n",
      "0.7 There's a knock on his door. A different, more beautiful woman is at home\n",
      "\n",
      "0.63 What's 9 inches long, 2 inches in diameter and sticking up about four or five\n",
      "\n",
      "0.64 This morning i was wondering,\" Whispers the man. \"Now listen carefully ...\" \" Stop!\"\n",
      "\n",
      "0.56 A cop pulls them over. A man is gay? It comes in handy\n",
      "\n",
      "0.68 What do you call a cheap circumcision? A rip off.\n",
      "\n",
      "0.56 The farmer and the old woman, \"You lied to me!\" Superman thinks he might\n",
      "\n",
      "0.61 What do you call a man whose mother lives with him...One\n",
      "\n",
      "0.55 A 7 year old daughter runs into the house and goes on a trip together every year\n",
      "\n",
      "0.57 What do dwarves and midgets have in common? Republicans are against them and democrats want more for schools\n",
      "\n",
      "0.64 How many cops does it take to change a light bulb? Only one, but she was very\n",
      "\n",
      "0.63 A young boy from his church running down the street. After a few minutes, she\n",
      "\n",
      "0.75 The boss hangs a poster in the shop...Edit: thanks for the baghdad\"\n",
      "\n",
      "0.64 An old lady sitting on her front step smoking a cigar a doctor on his morning walk noticed an old\n",
      "\n",
      "0.57 Dad jokes anyone! Little johnny's parents welcome an esteemed guest: the\n",
      "\n",
      "0.71 My girlfriend and i often laugh about how competitive we were as kids. But i laugh more.\n",
      "\n",
      "0.58 What's the difference between a bad golfer goes: *whack* \"Dang!\" *Whack*\n",
      "\n",
      "0.62 There is really no easy way to say this...Your husband is 40 years old. The old man received\n",
      "\n",
      "0.58 A young blonde woman is distraught because she fears her husband is not in the dictionary. He does\n",
      "\n",
      "0.64 I haven't got a clue.\" Said mick, \"So from now on and give up me irish\n",
      "\n",
      "0.61 Do you know that pigeons die when they have sex? Lickety-split.\n",
      "\n",
      "0.58 My friend text me 'what are you doing? You look awful! He said, \"Tonight\n",
      "\n",
      "0.55 What do you do if your wife is pregnant and her contractions are only two\n",
      "\n",
      "0.65 How many potatoes does it take to kill an irishman? Zero.\n",
      "\n",
      "0.7 Clearly cheating a man cheats on his girlfriend, he asks if he could come back into the house.\n",
      "\n",
      "0.6 Doctor starts writing up a note when the nurse comes in to bathe her, she overhears\n",
      "\n",
      "0.55 My wife was there, he has to wait in a long time about what each woman had done\n",
      "\n",
      "0.64 What is the difference?\". Dad answers, \"Sure. What size do you need it\n",
      "\n",
      "0.65 I dig, you dig, we dig, he dig, she dig\n",
      "\n",
      "0.57 Why do cows have hooves instead of feet? Because they're stuck-up cunts.\n",
      "\n",
      "0.56 My math-oriented co-worker just broke this one out this morning thought i would share.\n",
      "\n",
      "0.72 A young blonde woman who appeared to be in the bahamas, driving a cheap car, slept on a\n",
      "\n",
      "0.55 Two guys in their mid-twenties while sitting at the head table with the captain himself.\n",
      "\n",
      "0.6 Two drunks are crawling on the railroad. One says \"Do you have the black one, $\n",
      "\n",
      "0.59 Some friars were behind on their belfry payments, so they will know, in the living room. \"\n",
      "\n",
      "0.61 If sex with two people next to you. To your left threatening to run you off the steep cliff\n",
      "\n",
      "0.71 A husband and wife go to a bar...Nsfw and takes him to a crisp. The boy hears a\n",
      "\n",
      "0.64 Genius a proud and confident genius makes a bet with johnny unless she is absolutely sure she will\n",
      "\n",
      "0.56 Bartender says, 'yep, but none are coming inside. Paul mccartney is\n",
      "\n",
      "0.56 How can you tell vampirism is a disease? On account of the coffin\n",
      "\n",
      "0.63 The wife comes home late one night a guy would come home blitzed out of his shirt sleeves,\n",
      "\n",
      "0.57 What do you call a line of duct tape. The man shouts back \"Dammit\n",
      "\n",
      "0.6 My girlfriend is like the temperature of a tauntaun? Luke warm.\n",
      "\n",
      "0.74 My girlfriend finally asked me to raise my right leg, i asked for a gin and tonic\n",
      "\n",
      "0.66 Marriage, the man replies, \"If i show you something truly **amazing**, will ya give\n",
      "\n",
      "0.6 Onions and christmas trees a family is driving behind a garbage truck!\n",
      "\n",
      "0.6 My fencing teacher must've been a cop for almost 20 years now. I can follow anyone,\n",
      "\n",
      "0.73 Til that condoms have serial numbers. What? Have you never rolled them down that far\n",
      "\n",
      "0.56 I have a chance to teach her employees a lesson. So she goes to the owner of the bakery\n",
      "\n",
      "0.6 Little mary little mary was not the answer i was expecting.\n",
      "\n",
      "0.72 A fisherman was walking up the front steps two things happen. One, the bag finally breaks and the\n",
      "\n",
      "0.77 A redhead tells her blonde step-sister that she slept with a brazilian....\" So you like limericks\n",
      "\n",
      "0.57 A man and his wife were sharing their very first wedding anniversary...They meet each other after\n",
      "\n",
      "0.55 What's the difference between racism and asians? Racism has many faces.\n",
      "\n",
      "0.72 This exam is final two guys were sitting outside at a nudist colony? It's not really\n",
      "\n",
      "0.61 Why do girls have nipples? Because without them tits would be pointless.\n",
      "\n",
      "0.57 What do they do packs of one condom?\" Dad: \"I said cheers to spending\n",
      "\n",
      "0.62 I just watched harry potter for the first grade.\n",
      "\n",
      "0.62 Did you hear about the fire at the cheese factory? Nearly a total loss...All that was left\n",
      "\n",
      "0.69 Naked underneath naked underneath a young man from belgrave, who found a dollar in the jar, and\n",
      "\n",
      "0.58 Don't worry, where i find the guy in the middle of the living room engrossed in the evening\n",
      "\n",
      "0.62 Recently, a large truck pulling a trailer backs in to the electric chair. Bob miraculously lived the electrocution and\n",
      "\n",
      "0.64 Homeless man strikes up a conversation. I asked them what sins they committed. St peter asked them what sins\n",
      "\n",
      "0.56 Holy water one day st peter chose three distinguished individuals in heaven and a day in your life ...\n",
      "\n",
      "0.62 Why didn't you hear what nasa said about the statue, not even a foot tall. He\n",
      "\n",
      "0.59 A girl realised that she had always wanted to see it?' And so says: yeaaaah,\n",
      "\n",
      "0.68 The naked spa an old man walks up to him and said \"Decepticons\". She asks the\n",
      "\n",
      "0.56 A young couple in bed. He began to wonder if this machine could be fooled. He decided to hide\n",
      "\n",
      "0.57 What do tofu and a dildo have in common? If you are crying, send me your dreams.\n",
      "\n",
      "0.71 Monica lewinski will not vote for hillary as president? Because every time i walk in on them\n",
      "\n",
      "0.62 Why can't a man with bad memory...(Edit- spelling) an old, mean pitbull with a\n",
      "\n",
      "0.6 Mommy takes little johnny to the zoo.\" The driver responds, \"Good. Got any grapes?\" The\n",
      "\n",
      "0.7 A man and his wife are awakened at 3 o'clock in the morning...After a few minutes,\n",
      "\n",
      "0.61 Took the shell off my racing snail faster by taking off its shell but that just made\n",
      "\n",
      "0.63 What do we want? Low flying plane noises! When do we want!\" Says quasi,\n",
      "\n",
      "0.66 Apparently, someone in london gets stabbed every 50 seconds. Poor guy.\n",
      "\n",
      "0.59 A husband went to the sheriff’s department to report that his wife has just gave birth to their 23rd child\n",
      "\n",
      "0.56 I'd like some raisin bread please,\" The lawyer says \"Fuck you, chelsey.\n",
      "\n",
      "0.7 An armless man on the corner, but his face sure rings a bell.\" The doctor said, \"\n",
      "\n",
      "0.56 Any flavor you want!\" The bartender replies \"Well, i've classes\" The dad has\n",
      "\n",
      "0.62 The president meets with 50 top recruits from each branch of the armed forces...And says to him,\n",
      "\n",
      "0.58 Murphy was a very smart one. He succesfully avoided the red clouds for over 10 years in a row,\n",
      "\n",
      "0.59 What did the frustrated cannibal threw up his hands. What did the left butt cheek say to the prostitute\n",
      "\n",
      "0.73 Guilty and depression! A young boy holding a dandelion, old man on the beach the whole time. 'Well\n",
      "\n",
      "0.6 How many people bring a knife on a date.\n",
      "\n",
      "0.56 A little girl on bike, \"Did you mean to say \"*Oh my god!' Screams little\n",
      "\n",
      "0.65 What's forest gumps password? 1Forest1\n",
      "\n",
      "0.63 What do you get when you push them down a flight of stairs.\n",
      "\n",
      "0.64 Why does the taxi driver said that if he did something wrong. He forced himself to remove\n",
      "\n",
      "0.61 My brother got sent to prison really badly. He was yelling and screaming, took off his glasses\n",
      "\n",
      "0.57 This is my seeing-eye dog.” The doorman says \"Welcome mr. Howard\", Wife gets\n",
      "\n",
      "0.59 5 people are in a tank. One says to the barkeeper, \"I'm mother nature! Do\n",
      "\n",
      "0.63 Once i summoned the devil to grant my every wish. The devil appeared to the man, \"What\n",
      "\n",
      "0.65 A chicken goes into a bar he orders a drink and while he's up to the\n",
      "\n",
      "0.59 My wife's wallet got stolen 6 months ago...... And more then anything in the\n",
      "\n",
      "0.66 Why are hispanic dwarves called paragraphs? They're over two feet\n",
      "\n",
      "0.73 My grandpa said, \"No, i certainly don't want those fellas sleeping with your wife\n",
      "\n",
      "0.56 Torrential rainfall? Rising floodwaters?! No chance. He's a bit surprised by this. None\n",
      "\n",
      "0.73 Husband in coma a woman in the back of the intercom and says that he has ever\n",
      "\n",
      "0.58 Blonde and a brunette are walking down the street one afternoon. The first one turns to the chinese guy answers\n",
      "\n"
     ]
    }
   ],
   "source": [
    "positive_indices = [(i,v) for i, v in enumerate(score_quad_backoff) if v[1] > 0.55]\n",
    "positive_examples = [(models[backoff_quad_lm][i[0]], i[1][1]) for i in positive_indices]\n",
    "\n",
    "for (sentence, prob) in positive_examples:\n",
    "    print(round(prob, 2), end=' ')\n",
    "    displaySentence(sentence)\n",
    "    print()"
   ]
  },
  {
   "cell_type": "markdown",
   "id": "moved-forth",
   "metadata": {},
   "source": [
    "### 7. Conclusion"
   ]
  },
  {
   "cell_type": "markdown",
   "id": "forced-caution",
   "metadata": {},
   "source": [
    "From these highest scored sentences, the model is able to generate a few examples that do make sense, but also a few examples that are exactly from the training data such as this joke below. This joke was well recieved and the classifier is able to score it postively, predicting it will recieve more than 20 upvotes. The quadgram models are more likely to generate examples similar to training data. So the sentences generated to appear to make more sense, but are less unique and do score worse in the classifier than the trigram models.\n",
    "\n",
    "**0.65 What's forest gumps password? 1Forest1** - Backoff Quadgram\n",
    "\n",
    "Generating the exact same sentence from training is a very rare occurence and most of the sentences generated from all the models are completely unique. They still have their own challenges. Many of the jokes generate an end of sentence token despite really only generating one half of the joke and not the punchline. For example,\n",
    "\n",
    "**How does harry potter go down a hill.** - Backoff Quadgram\n",
    "\n",
    "And then other jokes where it does generate a punchline, but the puncline doesn't appear to make much sense.\n",
    "\n",
    "**How do you catch a slutty bee? With a cowculator!!** - Backoff Trigram\n",
    "\n",
    "**Why is oxygen like sex? A ginger-bread man** - Backoff Trigram\n",
    "\n",
    "\n"
   ]
  },
  {
   "cell_type": "markdown",
   "id": "freelance-fifty",
   "metadata": {},
   "source": [
    "There is also a large subset of jokes from all the models which appear to be on track to generate a somewhat sensible joke, but haven't reach an end of sentence token and are cutoff before finishing, such as this example\n",
    "\n",
    "**Three men approached the car. - Look pal,\" says the man. \"Can i get big**\n",
    "\n",
    "Since the sentences are cut off at 20 tokens some of them are unable to reach the end of sentence token in this time. This makes it difficult to evaluate the generation of longer sentences, but is necessary so that enough sentences could generated to compare the different smoothing methods.\n",
    "\n",
    "#### Future Work\n",
    "To expand on this it would be useful to evaluate also unigrams and bigrams, as well as more complex smoothing such as Kneser–Ney. The main preventing aspect are the resources required to generate sentences. Specifically, using NLTK Kneser-Ney was nearly impossible to generate sentences, even a single sentence was taking over 20 minutes of runtime. Therefore it could require looking for other packages or creating a specific implementation for this task. Using a larger dataset for training the language models would also be useful, but again would require more resources to train.\n",
    "\n",
    "For the classifier it would be useful to look at not only score, but also score over time. I think it would be more useful to see which jokes gain popularity more quickly, versus ones that may have made it over 20 score, but over months or even years time. The dataset that I used didn't provide this information, so it would need to be gathered directly from the Reddit API. This could make the labeled data more accurately distinguish between good and bad jokes and improve the classifiers evaluation.\n",
    "\n",
    "Another aspect that would be interesting to evaluate would be to seed the generation to start with the setup for a joke and then have the models generate the punchline. This could make comparing the resulting outputs more easy to interpret, but would require additional questions around what they should be seeded with and how this would impact the evaluation. Here are some examples seeded with **Why did the chicken cross the road?**\n"
   ]
  },
  {
   "cell_type": "code",
   "execution_count": 386,
   "id": "spatial-jordan",
   "metadata": {},
   "outputs": [
    {
     "name": "stdout",
     "output_type": "stream",
     "text": [
      "Why did the chicken cross the road?\n",
      "0 To get married. One night to remember. The boy h-how d-d-do i g-get t-to high st-street? The drummer.\n",
      "1 To a service this week. See more @ fridayupdate on twitter.\n",
      "2 To keep dora from exploring.\n",
      "3 To go on go on the street.\"\n",
      "4 To a part of the most intimate.\" The woman in the fence at the mail.\n",
      "5 Buy the cat...Why does he go to the other motorist that she starts to come home drunk as\n",
      "6 To get him together\" The man replies \"Sounds better when i see your nuts.\"\n",
      "7 Because he could feel the pain. You should be the most beautiful woman, and decided to report that her\n",
      "8 I'm fucking serious! I take my life. And then really takes it out of the church crowd. The\n",
      "9 To get a divorce in heaven?\" \" How'd you like to keep this going to paint a\n"
     ]
    }
   ],
   "source": [
    "seed = ['<s>', 'Why' ,'did' ,'the' ,'chicken' ,'cross', 'the', 'road', '?']\n",
    "print('Why did the chicken cross the road?')\n",
    "for i in range(10):\n",
    "    print(i, end=' ')\n",
    "    displaySentence(ngram_generate_sentence(backoff_tri_lm, 20, seed))"
   ]
  },
  {
   "cell_type": "code",
   "execution_count": 403,
   "id": "pursuant-amateur",
   "metadata": {},
   "outputs": [
    {
     "name": "stdout",
     "output_type": "stream",
     "text": [
      "0 To go back to studying now. K bye.\n",
      "1 To go with his new electric train in the living room playing scrabble.\"\n",
      "2 To render the buildings on the other hand, you never told me what it is because you're really\n",
      "3 The punchline is too long\n",
      "4 To say hello from the other side\n",
      "5 To knock knock on the door, his father stopped him and asked:\" What do you call a\n",
      "6 To say hello from the other side safely. Why? The alligators are at the oil refinery. One turns to\n",
      "7 Because i've been trying to find him the perfect match: \"I have been in business for 25\n",
      "8 To say hello from the other half aren't very friendly there anyway!!!! And bangbangbangbang,\n",
      "9 Because i put on some gloves. I'd like to get a closer look and lets out a little squeaker\n"
     ]
    }
   ],
   "source": [
    "for i in range(10):\n",
    "    print(i, end=' ')\n",
    "    displaySentence(ngram_generate_sentence(backoff_quad_lm, 20, seed))"
   ]
  },
  {
   "cell_type": "markdown",
   "id": "prescription-pleasure",
   "metadata": {},
   "source": [
    "#### References\n",
    "- https://towardsdatascience.com/having-an-imbalanced-dataset-here-is-how-you-can-solve-it-1640568947eb\n",
    "- https://textblob.readthedocs.io/en/dev/\n",
    "- https://www.nltk.org/_modules/nltk/tokenize/treebank.html\n",
    "- https://repository.lib.fit.edu/bitstream/handle/11141/682/ZHANG-THESIS.pdf?sequence=1&isAllowed=y\n",
    "- https://web.stanford.edu/~jurafsky/slp3/"
   ]
  },
  {
   "cell_type": "code",
   "execution_count": null,
   "id": "material-router",
   "metadata": {},
   "outputs": [],
   "source": []
  }
 ],
 "metadata": {
  "kernelspec": {
   "display_name": "Python 3 (ipykernel)",
   "language": "python",
   "name": "python3"
  },
  "language_info": {
   "codemirror_mode": {
    "name": "ipython",
    "version": 3
   },
   "file_extension": ".py",
   "mimetype": "text/x-python",
   "name": "python",
   "nbconvert_exporter": "python",
   "pygments_lexer": "ipython3",
   "version": "3.9.1"
  }
 },
 "nbformat": 4,
 "nbformat_minor": 5
}
